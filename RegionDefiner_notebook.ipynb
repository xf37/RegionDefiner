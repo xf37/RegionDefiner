{
 "cells": [
  {
   "cell_type": "markdown",
   "id": "ba347e59-8a4a-4072-8620-99a38caa95a5",
   "metadata": {},
   "source": [
    "# Welcome to the RegionDefiner Notebook!\n",
    "\n",
    "**RegionDefiner** is a specialized conversational agent engineered to perform specialized regionalization tasks. It emphasizes the application of regionalization algorithms from PySAL spopt. The RegionDefiner assists in delineating regions, leveraging specific attributes and thresholds to enhance the understanding of spatial patterns and optimize regional planning efforts.\n",
    "\n",
    "## Notebook Outline\n",
    "\n",
    "### Setup of RegionDefiner: Spatial Data Input and Document Upload\n",
    "- **Sanity Check Session**: Verifying local data loading and functionality of spopt functions.\n",
    "\n",
    "### Interface Functions in RegionDefiner\n",
    "- **Sanity Check Session**: Testing the custom wrapper functions designed for RegionDefiner.\n",
    "\n",
    "### Overview of RegionDefiner\n",
    "- A detailed look at the conversational agent powered by OpenAI, tailored for regional analysis.\n",
    "\n",
    "### Practical Demonstrations\n",
    "- **Case Study 1**: Evaluating responsiveness to educational content.\n",
    "- **Case Study 2**: Regionalization tasks using data from Mexico.\n",
    "- **Case Study 3**: Solving a Max-P problem with local datasets.\n",
    "- **Case Study 4**: Domain identification queries within RegionDefiner.\n"
   ]
  },
  {
   "cell_type": "code",
   "execution_count": null,
   "id": "e4970cfa-ab3f-4e59-bbbd-637171cb9d72",
   "metadata": {},
   "outputs": [],
   "source": []
  },
  {
   "cell_type": "markdown",
   "id": "2b4de152-55dd-451a-8349-3bacb3b4496f",
   "metadata": {
    "tags": []
   },
   "source": [
    "## Setup of RegionDefiner: Spatial Data Input and Document Upload\n",
    "\n",
    "**Model Flexibility**\n",
    "- Users have the flexibility to switch between different underlying models, such as **GPT-3.5 turbo**, **GPT-4 turbo**, and **GPT-4o**, to test and compare performance. Default model is GPT-4 turbo.\n",
    "\n",
    "**Data Integration**\n",
    "- **Spatial Data Input**: Users should upload their own spatial data files for detailed analysis. The RegionDefiner supports shapefile format. **To facilitate analysis, shapefiles should be placed in the `data` folder within the current working directory.**\n",
    "\n",
    "**File Search**\n",
    "- **Document Upload:** **Users should upload our given regionalization documents into the `documents` folder under the current working directory to achieve document retrieval.** The documents we provided include \"max_p_region_algorithm.docx,\" \"p_regions_problem.docx,\" \"max_p.docx,\" \"skater_algorithm.docx,\" \"azp_algorithm.docx,\" and \"spenc_algorithm.docx\". Uploading these documents into the `documents` folder allows the RegionDefiner to effectively utilize the File Search feature of the OpenAI Assistant when addressing user inquiries.\n",
    "\n",
    "**Interactive Usage Example**\n",
    "- Users can interact with the RegionDefiner by writing queries in the `user_message` parameter. Here is an example command to start a conversation:\n",
    "\n",
    "```python\n",
    "conversations(\n",
    "    user_message=\"I would like to explicitly design zonal objects as meaningful entities related to a certain goal. Specifically, I’d like to decide which kind of aerial objects would be most useful for studying housing characteristics or unemployment rates.\", \n",
    "    manager=manager, \n",
    "    verbose=VERBOSE)\n",
    "```\n",
    "\n",
    "**Future Developments**\n",
    "- In the future, we plan to develop a user interface to streamline interactions, allowing users to engage with the RegionDefiner without running this notebook. This notebook currently serves as an illustration to demonstrate how the RegionDefiner operates and to facilitate initial testing and development.\n",
    "\n",
    "For more information on the algorithms used, visit the [spopt repository on GitHub](https://github.com/pysal/spopt).\n",
    "\n"
   ]
  },
  {
   "cell_type": "code",
   "execution_count": 1,
   "id": "82b83069-89a8-49c1-8d78-41e498dc2edd",
   "metadata": {
    "tags": []
   },
   "outputs": [],
   "source": [
    "# Package Installation\n",
    "# Below are the commands to install all necessary packages for this notebook. Run these cells to ensure you have the latest versions of the required libraries."
   ]
  },
  {
   "cell_type": "code",
   "execution_count": null,
   "id": "4020d859-acf8-46f5-9911-0099309fc68e",
   "metadata": {},
   "outputs": [],
   "source": [
    "!pip install numpy==1.26.4"
   ]
  },
  {
   "cell_type": "code",
   "execution_count": null,
   "id": "ddfc37fd-88d0-43e7-9ae4-30d364e5ee9a",
   "metadata": {},
   "outputs": [],
   "source": [
    "!pip install inequality"
   ]
  },
  {
   "cell_type": "code",
   "execution_count": null,
   "id": "da1e435e-8b62-4191-9509-4013d903c06a",
   "metadata": {},
   "outputs": [],
   "source": [
    "!pip install -U spopt"
   ]
  },
  {
   "cell_type": "code",
   "execution_count": null,
   "id": "4923f9e9-2f85-42f5-8809-5591d4a5e638",
   "metadata": {},
   "outputs": [],
   "source": [
    "!pip install geopandas"
   ]
  },
  {
   "cell_type": "code",
   "execution_count": null,
   "id": "f5bbdf1e-a4c9-485b-8997-5f2a2407fb74",
   "metadata": {},
   "outputs": [],
   "source": [
    "!pip install openai"
   ]
  },
  {
   "cell_type": "code",
   "execution_count": null,
   "id": "712f8832-58ed-4527-bf90-995dfcb7bedd",
   "metadata": {},
   "outputs": [],
   "source": [
    "!pip install matplotlib"
   ]
  },
  {
   "cell_type": "code",
   "execution_count": null,
   "id": "776a1a0f-0eb9-4b35-8b85-f4c432b8dfac",
   "metadata": {},
   "outputs": [],
   "source": [
    "!pip install python-dotenv"
   ]
  },
  {
   "cell_type": "code",
   "execution_count": null,
   "id": "06ce64c3-3e55-4dea-81b1-22bc7ebcff74",
   "metadata": {},
   "outputs": [],
   "source": []
  },
  {
   "cell_type": "code",
   "execution_count": 9,
   "id": "8f89436f-23e1-4ea5-9fe2-e917eb1d0f08",
   "metadata": {
    "tags": []
   },
   "outputs": [
    {
     "data": {
      "text/plain": [
       "False"
      ]
     },
     "execution_count": 9,
     "metadata": {},
     "output_type": "execute_result"
    }
   ],
   "source": [
    "# Load essential libraries\n",
    "import os\n",
    "import json\n",
    "import datetime\n",
    "import time\n",
    "import numpy as np\n",
    "import pandas as pd\n",
    "import shutil\n",
    "import geopandas\n",
    "import matplotlib.pyplot as plt\n",
    "from dotenv import load_dotenv\n",
    "import warnings\n",
    "\n",
    "# Import OpenAI library\n",
    "from openai import OpenAI\n",
    "\n",
    "# Import spatial analysis libraries\n",
    "import libpysal\n",
    "from spopt.region import MaxPHeuristic as MaxP, RegionKMeansHeuristic, RandomRegion, RandomRegions, Skater, AZP, WardSpatial, Spenc\n",
    "\n",
    "# Import inequality analysis tools\n",
    "import inequality\n",
    "\n",
    "# Constants\n",
    "RANDOM_SEED = 12345\n",
    "\n",
    "# Underlying GPT Model (either GPT-3.5-turbo, GPT-4-turbo, or GPT-4o is accepted)\n",
    "MODEL = \"gpt-4-turbo-preview\"\n",
    "#MODEL = \"gpt-4o\"\n",
    "#MODEL = \"gpt-3.5-turbo-1106\"\n",
    "\n",
    "# Configure settings\n",
    "warnings.filterwarnings('ignore')\n",
    "load_dotenv()  # Load environment variables from a .env file\n"
   ]
  },
  {
   "cell_type": "code",
   "execution_count": 10,
   "id": "0ab6ccf9-3b4c-4925-9a96-ef3d1700b68b",
   "metadata": {
    "tags": []
   },
   "outputs": [],
   "source": [
    "# provide your OpenAI Key \n",
    "OPENAI_API_KEY = "
   ]
  },
  {
   "cell_type": "code",
   "execution_count": 11,
   "id": "56431f97-d0fc-436c-88b6-ba8bd63e2441",
   "metadata": {
    "tags": []
   },
   "outputs": [],
   "source": [
    "class EmptyAttributeNameError(Exception):\n",
    "    def __init__(self, numeric_attrs):\n",
    "        message = f\"Attribute name is empty. It should belong to {numeric_attrs}\"\n",
    "        super().__init__(message)\n",
    "\n",
    "class EmptyThresholdNameError(Exception):\n",
    "    def __init__(self, attrs_name):\n",
    "        message = f\"Threshold name is empty. It should belong to {attrs_name}\"\n",
    "        super().__init__(message)\n",
    "\n",
    "class NonNumericAttributeError(Exception):\n",
    "    def __init__(self, not_numeric_attrs, numeric_attrs):\n",
    "        message = f\"The following attributes are not of numeric data type: {', '.join(not_numeric_attrs)}. It should belong to {numeric_attrs}\"\n",
    "        super().__init__(message)\n",
    "\n",
    "class InvalidThresholdNameError(Exception):\n",
    "    def __init__(self, threshold_name, attrs_name):\n",
    "        message = f\"{threshold_name} is not from {attrs_name}.\"\n",
    "        super().__init__(message)\n",
    "\n",
    "class ShapefileLoadingError(Exception):\n",
    "    \"\"\"Exception raised when a shapefile cannot be loaded.\"\"\"\n",
    "    def __init__(self, message=\"Failed to load the shapefile\"):\n",
    "        self.message = message\n",
    "        super().__init__(self.message)"
   ]
  },
  {
   "cell_type": "code",
   "execution_count": 12,
   "id": "1dcaeab9-e388-4ab9-86a6-1d3f653df539",
   "metadata": {
    "tags": []
   },
   "outputs": [],
   "source": [
    "class ShapefileLoadingError(Exception):\n",
    "    pass\n",
    "\n",
    "def load_shapefile(input_file_path):\n",
    "    \"\"\"\n",
    "    Load a shapefile into a GeoPandas DataFrame.\n",
    "    \n",
    "    Parameters:\n",
    "    - input_file_path: str, the path to the shapefile, either as a libpysal example or a local file path.\n",
    "    \n",
    "    Returns:\n",
    "    - gdf: GeoPandas DataFrame containing the shapefile data.\n",
    "    \"\"\"\n",
    "    try:\n",
    "        # Attempt to load from libpysal examples\n",
    "        pth = libpysal.examples.get_path(input_file_path)\n",
    "        if pth is None or not os.path.exists(pth):\n",
    "            raise KeyError(f\"{input_file_path} not found in libpysal examples.\")\n",
    "    except KeyError:\n",
    "        # If not found, use the provided local path\n",
    "        print(\"Shapefile not found in libpysal examples. Attempting to read from a local path.\")\n",
    "        pth = input_file_path\n",
    "\n",
    "    try:\n",
    "        # Load the shapefile into a GeoPandas DataFrame\n",
    "        gdf = geopandas.read_file(pth)\n",
    "        return gdf\n",
    "    except Exception as e:\n",
    "        #print(f\"Failed to load the Shapefile: {e}\")\n",
    "        raise ShapefileLoadingError(f\"Failed to load the Shapefile: {e}\")\n"
   ]
  },
  {
   "cell_type": "code",
   "execution_count": 13,
   "id": "91c2740d-951c-403f-8a8b-59833c1cb8a1",
   "metadata": {
    "tags": []
   },
   "outputs": [],
   "source": [
    "def region_labels(df, solution, name=\"labels_\"):\n",
    "    n, k = df.shape\n",
    "    labels_ = np.zeros((n,), int)\n",
    "    for i, region in enumerate(solution.regions):\n",
    "        labels_[region] = i\n",
    "    df[name] = labels_"
   ]
  },
  {
   "cell_type": "code",
   "execution_count": 14,
   "id": "f36fd3f9-6a2a-454c-adb3-8d8626a42138",
   "metadata": {
    "tags": []
   },
   "outputs": [],
   "source": [
    "def rename_shapefile(input_shapefile):\n",
    "    # Ensure the input file has the correct .shp extension\n",
    "    base_name, ext = os.path.splitext(input_shapefile)\n",
    "    if ext.lower() != '.shp':\n",
    "        raise ValueError(\"Input file must have a .shp extension\")\n",
    "    \n",
    "    # Define the output shapefile name\n",
    "    output_shapefile = f\"{base_name}_output.shp\"\n",
    "    \n",
    "    # Rename the .shp file\n",
    "    return output_shapefile"
   ]
  },
  {
   "cell_type": "code",
   "execution_count": 15,
   "id": "eda15ec3-093b-4ea0-8b1e-20daac8ddec9",
   "metadata": {
    "tags": []
   },
   "outputs": [],
   "source": [
    "def get_p_regions(n_cluster=5, attrs_name=[\"PCGDP1980\"], input_file_path='mexicojoin.shp', algorithm='skater', plot_results=False):\n",
    "    \"\"\"\n",
    "    Generate P regions from a given shapefile using the Skater algorithm.\n",
    "\n",
    "    Args:\n",
    "    - n_clusters (int): The desired number of contiguous regions to group spatial units into.\n",
    "    - attrs_name (list of str): Attributes used to measure regional homogeneity, e.g., number of Airbnb spots.\n",
    "    - input_file_path (str): Path to the input shapefile for loading into a GeoPandas DataFrame.\n",
    "    - algoritm (str): The selected p-region algorithm, which should be one of the followings: 'skater', 'azp', 'kmeans', 'spenc', 'ward_spatial', 'random'.\n",
    "    - plot_results (bool): If True, plot the resulting regions. Defaults to False.\n",
    "\n",
    "    Returns:\n",
    "    - gpd.GeoDataFrame: The GeoDataFrame with an additional column 'regions' indicating the region label for each spatial unit.\n",
    "\n",
    "    This function loads spatial data from the specified shapefile, applies the Skater algorithm to form regions based on the specified attributes, and saves the resulting regions to a new shapefile.\n",
    "    \"\"\"\n",
    "\n",
    "    # Load the shapefile into a GeoDataFrame\n",
    "    gdf = load_shapefile(input_file_path)\n",
    "\n",
    "    # Check if attrs_name is int or float datatype\n",
    "    numeric_attrs = gdf.select_dtypes(include=['int', 'float']).columns\n",
    "    if not attrs_name:\n",
    "        raise EmptyAttributeNameError(numeric_attrs)\n",
    "\n",
    "    not_numeric_attrs = [col for col in attrs_name if col not in numeric_attrs]\n",
    "    if not_numeric_attrs:\n",
    "        raise NonNumericAttributeError(not_numeric_attrs, numeric_attrs)\n",
    "    \n",
    "    # Initialize the Skater model with the given parameters\n",
    "    if algorithm == 'random':\n",
    "        random_regions = RandomRegion(\n",
    "            area_ids=gdf.index.values.tolist(), \n",
    "            num_regions=n_cluster,\n",
    "            contiguity=libpysal.weights.Queen.from_dataframe(gdf, use_index=False))\n",
    "        region_labels(gdf, random_regions, name=\"regions\")\n",
    "    \n",
    "    else:    \n",
    "        if algorithm == 'skater':\n",
    "            model = Skater(\n",
    "                gdf=gdf,\n",
    "                w=libpysal.weights.Queen.from_dataframe(gdf, use_index=False),\n",
    "                attrs_name=attrs_name,\n",
    "                n_clusters=n_cluster,\n",
    "                floor=3,\n",
    "                islands='ignore',\n",
    "            )\n",
    "        elif algorithm == 'azp':\n",
    "            model = AZP(\n",
    "                gdf=gdf,\n",
    "                w=libpysal.weights.Queen.from_dataframe(gdf, use_index=False),\n",
    "                attrs_name=attrs_name,\n",
    "                n_clusters=n_cluster\n",
    "            )\n",
    "        elif algorithm == 'ward_spatial':\n",
    "            model = WardSpatial(\n",
    "                gdf=gdf,\n",
    "                w=libpysal.weights.Queen.from_dataframe(gdf, use_index=False),\n",
    "                attrs_name=attrs_name,\n",
    "                n_clusters=n_cluster\n",
    "            )\n",
    "        elif algorithm == 'kmeans':        \n",
    "            model = RegionKMeansHeuristic(\n",
    "                data=gdf[attrs_name].values,\n",
    "                w=libpysal.weights.Queen.from_dataframe(gdf, use_index=False),\n",
    "                n_clusters=n_cluster\n",
    "            )   \n",
    "        elif algorithm == 'spenc':\n",
    "            model = Spenc(\n",
    "                gdf=gdf,\n",
    "                w=libpysal.weights.Queen.from_dataframe(gdf, use_index=False),\n",
    "                attrs_name=attrs_name,\n",
    "                n_clusters=n_cluster\n",
    "            )\n",
    "\n",
    "        # Solve the model to generate regions\n",
    "        model.solve()\n",
    "\n",
    "        # Update the GeoDataFrame with the resulting regions\n",
    "        gdf['regions'] = model.labels_\n",
    "            \n",
    "    # Save the updated GeoDataFrame to a new shapefile\n",
    "    output_file_path = rename_shapefile(input_file_path)\n",
    "    gdf.to_file(output_file_path)\n",
    "    \n",
    "    # Optionally, visualize the results\n",
    "    if plot_results:\n",
    "        ax = gdf.plot(\n",
    "            figsize=(7, 14), column=\"regions\", categorical=True, edgecolor=\"w\"\n",
    "        )\n",
    "        ax.axis(\"off\")\n",
    "        fig = ax.get_figure()\n",
    "        fig.savefig('plot_regions.jpeg', dpi=300)\n",
    "    \n",
    "    # Return the updated GeoDataFrame\n",
    "    return gdf    "
   ]
  },
  {
   "cell_type": "markdown",
   "id": "3ef2e637-1a3b-400b-8700-b19d897b2635",
   "metadata": {},
   "source": [
    "## Sanity Check Session: Testing Local Data Loading and spopt Functions\n",
    "\n",
    "Before proceeding with detailed regional analyses, it is crucial to ensure that the system is correctly set up to load and process both local spatial data and the data provided with the Spopt package using Spopt functions. This sanity check session is designed to verify the integrity and functionality of the data loading processes and to test the performance of the Spopt algorithms with these datasets.\n",
    "\n",
    "### Objectives:\n",
    "- **Verify Local Data Loading:** Confirm that the shapefile data can be successfully loaded from the `data` folder under the current working directory to execute RegionDefine.\n",
    "- **Test Data Loading from Spopt Package:** Ensure that RegionDefiner can also load and utilize the example datasets included with the Spopt package.\n",
    "- **Test Spopt Functionality:** Execute basic Spopt functions to ensure they interact correctly with the loaded data and operate as expected, providing a robust test of system capabilities.\n",
    "\n",
    "This session will help identify any issues early in the process, allowing for adjustments before moving on to more complex regionalization tasks. Ensuring that both local and package-provided data can be processed effectively is crucial for leveraging the full capabilities of the RegionDefiner.\n",
    "\n",
    "**Please upload the necessary shapefiles, e.g., 'farms_us.shp', into the `data` folder in the current directory before running this script.**\n"
   ]
  },
  {
   "cell_type": "code",
   "execution_count": 17,
   "id": "c3400e86-7def-477f-8f0b-33c7e293c841",
   "metadata": {},
   "outputs": [
    {
     "name": "stdout",
     "output_type": "stream",
     "text": [
      "data/farms_us.shp is not a file in any installed dataset.\n",
      "Shapefile not found in libpysal examples. Attempting to read from a local path.\n"
     ]
    },
    {
     "data": {
      "text/html": [
       "<div>\n",
       "<style scoped>\n",
       "    .dataframe tbody tr th:only-of-type {\n",
       "        vertical-align: middle;\n",
       "    }\n",
       "\n",
       "    .dataframe tbody tr th {\n",
       "        vertical-align: top;\n",
       "    }\n",
       "\n",
       "    .dataframe thead th {\n",
       "        text-align: right;\n",
       "    }\n",
       "</style>\n",
       "<table border=\"1\" class=\"dataframe\">\n",
       "  <thead>\n",
       "    <tr style=\"text-align: right;\">\n",
       "      <th></th>\n",
       "      <th>OBJECTID</th>\n",
       "      <th>CROP_HA</th>\n",
       "      <th>density</th>\n",
       "      <th>A_HA</th>\n",
       "      <th>geometry</th>\n",
       "    </tr>\n",
       "  </thead>\n",
       "  <tbody>\n",
       "    <tr>\n",
       "      <th>0</th>\n",
       "      <td>24</td>\n",
       "      <td>4520.747306</td>\n",
       "      <td>0.007477</td>\n",
       "      <td>604590.955614</td>\n",
       "      <td>POLYGON ((-705154.120 -583182.954, -705201.825...</td>\n",
       "    </tr>\n",
       "  </tbody>\n",
       "</table>\n",
       "</div>"
      ],
      "text/plain": [
       "   OBJECTID      CROP_HA   density           A_HA  \\\n",
       "0        24  4520.747306  0.007477  604590.955614   \n",
       "\n",
       "                                            geometry  \n",
       "0  POLYGON ((-705154.120 -583182.954, -705201.825...  "
      ]
     },
     "execution_count": 17,
     "metadata": {},
     "output_type": "execute_result"
    }
   ],
   "source": [
    "## Sanity Check on Data and Spopt Functions\n",
    "\n",
    "# Ensure the shapefile can be loaded correctly.\n",
    "# Please upload the necessary shapefiles, e.g., 'farms_us.shp', into the \"data\" folder in the current directory before running this script.\n",
    "\n",
    "gdf = load_shapefile('data/farms_us.shp')\n",
    "gdf.head(1)"
   ]
  },
  {
   "cell_type": "code",
   "execution_count": 18,
   "id": "889c7d0b-8fc3-47b0-8192-3803f0a6af04",
   "metadata": {
    "tags": []
   },
   "outputs": [
    {
     "data": {
      "text/html": [
       "<div>\n",
       "<style scoped>\n",
       "    .dataframe tbody tr th:only-of-type {\n",
       "        vertical-align: middle;\n",
       "    }\n",
       "\n",
       "    .dataframe tbody tr th {\n",
       "        vertical-align: top;\n",
       "    }\n",
       "\n",
       "    .dataframe thead th {\n",
       "        text-align: right;\n",
       "    }\n",
       "</style>\n",
       "<table border=\"1\" class=\"dataframe\">\n",
       "  <thead>\n",
       "    <tr style=\"text-align: right;\">\n",
       "      <th></th>\n",
       "      <th>POLY_ID</th>\n",
       "      <th>AREA</th>\n",
       "      <th>CODE</th>\n",
       "      <th>NAME</th>\n",
       "      <th>PERIMETER</th>\n",
       "      <th>ACRES</th>\n",
       "      <th>HECTARES</th>\n",
       "      <th>PCGDP1940</th>\n",
       "      <th>PCGDP1950</th>\n",
       "      <th>PCGDP1960</th>\n",
       "      <th>...</th>\n",
       "      <th>GR9000</th>\n",
       "      <th>LPCGDP40</th>\n",
       "      <th>LPCGDP50</th>\n",
       "      <th>LPCGDP60</th>\n",
       "      <th>LPCGDP70</th>\n",
       "      <th>LPCGDP80</th>\n",
       "      <th>LPCGDP90</th>\n",
       "      <th>LPCGDP00</th>\n",
       "      <th>TEST</th>\n",
       "      <th>geometry</th>\n",
       "    </tr>\n",
       "  </thead>\n",
       "  <tbody>\n",
       "    <tr>\n",
       "      <th>0</th>\n",
       "      <td>1</td>\n",
       "      <td>7.252751e+10</td>\n",
       "      <td>MX02</td>\n",
       "      <td>Baja California Norte</td>\n",
       "      <td>2040312.385</td>\n",
       "      <td>1.792187e+07</td>\n",
       "      <td>7252751.376</td>\n",
       "      <td>22361.0</td>\n",
       "      <td>20977.0</td>\n",
       "      <td>17865.0</td>\n",
       "      <td>...</td>\n",
       "      <td>0.05</td>\n",
       "      <td>4.35</td>\n",
       "      <td>4.32</td>\n",
       "      <td>4.25</td>\n",
       "      <td>4.4</td>\n",
       "      <td>4.47</td>\n",
       "      <td>4.43</td>\n",
       "      <td>4.48</td>\n",
       "      <td>1.0</td>\n",
       "      <td>MULTIPOLYGON (((-113.13972 29.01778, -113.2405...</td>\n",
       "    </tr>\n",
       "  </tbody>\n",
       "</table>\n",
       "<p>1 rows × 35 columns</p>\n",
       "</div>"
      ],
      "text/plain": [
       "   POLY_ID          AREA  CODE                   NAME    PERIMETER  \\\n",
       "0        1  7.252751e+10  MX02  Baja California Norte  2040312.385   \n",
       "\n",
       "          ACRES     HECTARES  PCGDP1940  PCGDP1950  PCGDP1960  ...  GR9000  \\\n",
       "0  1.792187e+07  7252751.376    22361.0    20977.0    17865.0  ...    0.05   \n",
       "\n",
       "   LPCGDP40  LPCGDP50  LPCGDP60  LPCGDP70  LPCGDP80  LPCGDP90  LPCGDP00  TEST  \\\n",
       "0      4.35      4.32      4.25       4.4      4.47      4.43      4.48   1.0   \n",
       "\n",
       "                                            geometry  \n",
       "0  MULTIPOLYGON (((-113.13972 29.01778, -113.2405...  \n",
       "\n",
       "[1 rows x 35 columns]"
      ]
     },
     "execution_count": 18,
     "metadata": {},
     "output_type": "execute_result"
    }
   ],
   "source": [
    "# check if the spopt data could loaded\n",
    "gdf = load_shapefile('mexicojoin.shp')\n",
    "gdf.head(1)"
   ]
  },
  {
   "cell_type": "code",
   "execution_count": 136,
   "id": "c274fc2e-6d1f-4173-9ffe-37bf5418f93f",
   "metadata": {
    "tags": []
   },
   "outputs": [
    {
     "name": "stdout",
     "output_type": "stream",
     "text": [
      "data/farms_us.shp is not a file in any installed dataset.\n",
      "Shapefile not found in libpysal examples. Attempting to read from a local path.\n"
     ]
    },
    {
     "data": {
      "text/html": [
       "<div>\n",
       "<style scoped>\n",
       "    .dataframe tbody tr th:only-of-type {\n",
       "        vertical-align: middle;\n",
       "    }\n",
       "\n",
       "    .dataframe tbody tr th {\n",
       "        vertical-align: top;\n",
       "    }\n",
       "\n",
       "    .dataframe thead th {\n",
       "        text-align: right;\n",
       "    }\n",
       "</style>\n",
       "<table border=\"1\" class=\"dataframe\">\n",
       "  <thead>\n",
       "    <tr style=\"text-align: right;\">\n",
       "      <th></th>\n",
       "      <th>OBJECTID</th>\n",
       "      <th>CROP_HA</th>\n",
       "      <th>density</th>\n",
       "      <th>A_HA</th>\n",
       "      <th>geometry</th>\n",
       "      <th>regions</th>\n",
       "    </tr>\n",
       "  </thead>\n",
       "  <tbody>\n",
       "    <tr>\n",
       "      <th>0</th>\n",
       "      <td>24</td>\n",
       "      <td>4520.747306</td>\n",
       "      <td>0.007477</td>\n",
       "      <td>604590.955614</td>\n",
       "      <td>POLYGON ((-705154.120 -583182.954, -705201.825...</td>\n",
       "      <td>0</td>\n",
       "    </tr>\n",
       "  </tbody>\n",
       "</table>\n",
       "</div>"
      ],
      "text/plain": [
       "   OBJECTID      CROP_HA   density           A_HA  \\\n",
       "0        24  4520.747306  0.007477  604590.955614   \n",
       "\n",
       "                                            geometry  regions  \n",
       "0  POLYGON ((-705154.120 -583182.954, -705201.825...        0  "
      ]
     },
     "execution_count": 136,
     "metadata": {},
     "output_type": "execute_result"
    },
    {
     "data": {
      "image/png": "[encoded data removed]",
      "text/plain": [
       "<Figure size 700x1400 with 1 Axes>"
      ]
     },
     "metadata": {},
     "output_type": "display_data"
    }
   ],
   "source": [
    "# skater\n",
    "get_p_regions(\n",
    "    n_cluster=10, \n",
    "    attrs_name=['density'], \n",
    "    #algorithm='azp',\n",
    "    input_file_path='data/farms_us.shp', \n",
    "    plot_results=True\n",
    ").head(1)"
   ]
  },
  {
   "cell_type": "code",
   "execution_count": 137,
   "id": "a622507a-1f8f-4441-9086-2ddfbca2bc27",
   "metadata": {
    "tags": []
   },
   "outputs": [
    {
     "name": "stdout",
     "output_type": "stream",
     "text": [
      "data/farms_us.shp is not a file in any installed dataset.\n",
      "Shapefile not found in libpysal examples. Attempting to read from a local path.\n"
     ]
    },
    {
     "data": {
      "text/html": [
       "<div>\n",
       "<style scoped>\n",
       "    .dataframe tbody tr th:only-of-type {\n",
       "        vertical-align: middle;\n",
       "    }\n",
       "\n",
       "    .dataframe tbody tr th {\n",
       "        vertical-align: top;\n",
       "    }\n",
       "\n",
       "    .dataframe thead th {\n",
       "        text-align: right;\n",
       "    }\n",
       "</style>\n",
       "<table border=\"1\" class=\"dataframe\">\n",
       "  <thead>\n",
       "    <tr style=\"text-align: right;\">\n",
       "      <th></th>\n",
       "      <th>OBJECTID</th>\n",
       "      <th>CROP_HA</th>\n",
       "      <th>density</th>\n",
       "      <th>A_HA</th>\n",
       "      <th>geometry</th>\n",
       "      <th>regions</th>\n",
       "    </tr>\n",
       "  </thead>\n",
       "  <tbody>\n",
       "    <tr>\n",
       "      <th>0</th>\n",
       "      <td>24</td>\n",
       "      <td>4520.747306</td>\n",
       "      <td>0.007477</td>\n",
       "      <td>604590.955614</td>\n",
       "      <td>POLYGON ((-705154.120 -583182.954, -705201.825...</td>\n",
       "      <td>6.0</td>\n",
       "    </tr>\n",
       "  </tbody>\n",
       "</table>\n",
       "</div>"
      ],
      "text/plain": [
       "   OBJECTID      CROP_HA   density           A_HA  \\\n",
       "0        24  4520.747306  0.007477  604590.955614   \n",
       "\n",
       "                                            geometry  regions  \n",
       "0  POLYGON ((-705154.120 -583182.954, -705201.825...      6.0  "
      ]
     },
     "execution_count": 137,
     "metadata": {},
     "output_type": "execute_result"
    },
    {
     "data": {
      "image/png": "[encoded data removed]",
      "text/plain": [
       "<Figure size 700x1400 with 1 Axes>"
      ]
     },
     "metadata": {},
     "output_type": "display_data"
    }
   ],
   "source": [
    "# azp\n",
    "get_p_regions(\n",
    "    n_cluster=10, \n",
    "    attrs_name=['density'], \n",
    "    algorithm='azp',\n",
    "    input_file_path='data/farms_us.shp', \n",
    "    plot_results=True\n",
    ").head(1)"
   ]
  },
  {
   "cell_type": "code",
   "execution_count": null,
   "id": "1df814e9-8bf5-4cc6-a5a8-7c820cd13934",
   "metadata": {},
   "outputs": [],
   "source": []
  },
  {
   "cell_type": "markdown",
   "id": "3ee3a585-9850-43a1-abe3-a2ed896791b9",
   "metadata": {
    "tags": []
   },
   "source": [
    "## Wrapper Functions in RegionDefiner: Bridging Communication with Spopt Functions\n",
    "\n",
    "The RegionDefiner employs specialized wrapper functions as a critical interface between the user and the underlying algorithms in PySAL spopt. These functions are designed to streamline the execution of spatial analysis tasks, providing clear feedback on the operation of these algorithms, their execution status, and any errors that occur.\n",
    "\n",
    "### Purpose of Wrapper Functions:\n",
    "- **Execution Management:** These functions initiate and manage the execution of regionalization algorithms, ensuring that each algorithm runs smoothly according to specified parameters.\n",
    "- **Error Handling:** They are responsible for catching and interpreting errors during the execution of spopt functions. This allows immediate troubleshooting and provides understandable error messages that explain what went wrong.\n",
    "- **Feedback Provision:** Wrapper functions deliver real-time feedback about the status of an algorithm's execution, including successful completions or detailed reports on any issues encountered.\n",
    "\n",
    "These wrapper functions are fundamental to the operation of the RegionDefiner, enhancing its reliability and usability by ensuring that interactions with the Spopt algorithms are efficient, transparent, and user-centric.\n"
   ]
  },
  {
   "cell_type": "code",
   "execution_count": 47,
   "id": "5160fb7e-ed55-4cf5-bdc9-d6568ac23d25",
   "metadata": {
    "tags": []
   },
   "outputs": [],
   "source": [
    "def get_p_regions_response(n_clusters=5, attrs_name=[\"num_spots\"], input_file_path='airbnb_Chicago 2015.shp', algorithm='skater', plot_results=False):\n",
    "    \"\"\"\n",
    "    Wrapper function to call get_p_regions and handle any exceptions that arise, providing a user-friendly response.\n",
    "\n",
    "    Args:\n",
    "    - n_clusters (int): The desired number of contiguous regions to group spatial units into.\n",
    "    - attrs_name (list of str): Attributes used to measure regional homogeneity, e.g., number of Airbnb spots.\n",
    "    - input_file_path (str): Path to the input shapefile directory for loading into a GeoPandas DataFrame.\n",
    "    - algoritm (str): The selected p-region algorithm, which should be one of the followings: 'skater', 'azp', 'kmeans', 'spenc', 'ward_spatial', 'random'.\n",
    "    - plot_results (bool): If True, plot the resulting regions. Defaults to False.\n",
    "    \n",
    "    Returns:\n",
    "    - str: A response message indicating the outcome of the regionalization process, or describing an error that occurred.\n",
    "    \"\"\"\n",
    "    \n",
    "    algorithm_list = ['skater', 'azp', 'kmeans', 'spenc', 'ward_spatial', 'random']\n",
    "    if algorithm not in algorithm_list:\n",
    "        response += f\"Error: Please select an algorithm amongs {algorithm_list}.\"\n",
    "        return response\n",
    "    \n",
    "    try:\n",
    "        # Call the get_p_regions function and get the updated GeoDataFrame with region labels\n",
    "        updated_gdf = get_p_regions(n_clusters, attrs_name, input_file_path, algorithm, plot_results)\n",
    "        \n",
    "        # Construct a response message indicating the successful regionalization\n",
    "        response = f\"The regionalization process was successful. The regions have been calculated and saved in 'region' column in '{rename_shapefile(input_file_path)}'.\"\n",
    "        \n",
    "        # You can also include additional information in the response, such as the number of unique regions\n",
    "        unique_regions = updated_gdf['regions'].nunique()\n",
    "        response += f\" There are {unique_regions} unique regions now.\"\n",
    "    except EmptyAttributeNameError as e:\n",
    "        # Handle case where attribute name list is empty or None\n",
    "        response = f\"Error: {e}. Please provide a valid list of attribute names.\"\n",
    "    except NonNumericAttributeError as e:\n",
    "        # Handle case where some attributes are not numeric\n",
    "        response = f\"Error: {e}. All attributes must be numeric.\"\n",
    "    except InvalidThresholdNameError as e:\n",
    "        # Handle case where the threshold name is not valid\n",
    "        response = f\"Error: {e}. Ensure the threshold name is correct and included in the attribute names.\"\n",
    "    except ShapefileLoadingError as e:\n",
    "        # Handle errors related to loading the shapefile\n",
    "        response = f\"Error loading shapefile: {e}. Check the file path and ensure it points to a valid shapefile.\"\n",
    "    except Exception as e:\n",
    "        # Handle any other unexpected exceptions\n",
    "        response = f\"An unexpected error occurred: {e}.\"\n",
    "\n",
    "    # Return the response message\n",
    "    return response"
   ]
  },
  {
   "cell_type": "code",
   "execution_count": 48,
   "id": "c0318986-f8da-4ac7-81e4-c06d84d7e791",
   "metadata": {
    "tags": []
   },
   "outputs": [],
   "source": [
    "def get_regionalization_maxp(threshold=5, attrs_name=None, threshold_name=\"count\", input_file_path='mexicojoin.shp', top_n=2, plot_results=False):\n",
    "    \"\"\"\n",
    "    Perform regionalization using the MaxP algorithm to group geographical units into regions based on specified attributes.\n",
    "\n",
    "    Args:\n",
    "    - threshold (int): Minimum cumulative value of the threshold attribute required for each region.\n",
    "    - attrs_name (list of str, optional): List of attribute names used to evaluate homogeneity within regions. Defaults to None.\n",
    "    - threshold_name (str): Name of the attribute to apply the threshold criterion. Defaults to \"count\".\n",
    "    - input_file_path (str): Path to the shapefile with geographic data for regionalization. Defaults to 'mexicojoin.shp'.\n",
    "    - top_n (int): Number of top solutions to consider in the regionalization algorithm. Defaults to 2.\n",
    "    - plot_results (bool): If True, plot the resulting regions. Defaults to False.\n",
    "\n",
    "    Returns:\n",
    "    - int: Number of regions formed by the regionalization process.\n",
    "    \n",
    "    Raises:\n",
    "    - EmptyAttributeNameError: If attrs_name is None or empty.\n",
    "    - NonNumericAttributeError: If any attribute in attrs_name or threshold_name is not numeric.\n",
    "    \"\"\"\n",
    "    \n",
    "    # Load geographical data from the specified shapefile into a GeoDataFrame\n",
    "    gdf = load_shapefile(input_file_path)\n",
    "\n",
    "    # Initialize a dummy attribute to ensure the algorithm has data to process\n",
    "    gdf['count'] = 1\n",
    "    \n",
    "    # Generate spatial weights based on Queen contiguity\n",
    "    with warnings.catch_warnings(record=True):\n",
    "        w = libpysal.weights.Queen.from_dataframe(gdf, use_index=False)\n",
    "    \n",
    "    # Validate attribute names and types for regionalization\n",
    "    numeric_attrs = gdf.select_dtypes(include=['int', 'float']).columns\n",
    "    if not attrs_name:\n",
    "        raise EmptyAttributeNameError(numeric_attrs)\n",
    "    if threshold_name is None:\n",
    "        raise EmptyThresholdNameError(attrs_name)\n",
    "\n",
    "    # Check for non-numeric attributes in attrs_name and raise an error if found\n",
    "    not_numeric_attrs = [col for col in attrs_name if col not in numeric_attrs]\n",
    "    if not_numeric_attrs:\n",
    "        raise NonNumericAttributeError(not_numeric_attrs, numeric_attrs)\n",
    "    if threshold_name not in numeric_attrs:\n",
    "        raise NonNumericAttributeError(threshold_name, numeric_attrs)\n",
    "\n",
    "    # Execute the MaxP algorithm with specified parameters\n",
    "    np.random.seed(RANDOM_SEED)\n",
    "    model = MaxP(gdf, w, attrs_name, threshold_name, threshold, top_n)\n",
    "    model.solve()\n",
    "\n",
    "    # Assign region labels to each geographical unit in the GeoDataFrame\n",
    "    gdf['regions'] = model.labels_\n",
    "            \n",
    "    # Save the updated GeoDataFrame to a new shapefile\n",
    "    output_file_path = rename_shapefile(input_file_path)\n",
    "    gdf.to_file(output_file_path)\n",
    "    \n",
    "    # Optionally, plot the results\n",
    "    if plot_results:\n",
    "        gdf.plot(figsize=(8, 5), column=\"regions\", cmap=\"tab20\", edgecolor=\"w\").axis(\"off\");\n",
    "\n",
    "    return model.p # Return the number of regions generated"
   ]
  },
  {
   "cell_type": "code",
   "execution_count": 49,
   "id": "e8ce74e5-c462-49b7-9b48-29ec844b779a",
   "metadata": {
    "tags": []
   },
   "outputs": [],
   "source": [
    "def get_maxp_response(threshold=5, attrs_name=None, threshold_name=\"count\", input_file_path='mexicojoin.shp', top_n=2, plot_results=False):\n",
    "    \"\"\"\n",
    "    Wrapper function to call get_regionalization_maxp and handle any exceptions that arise, providing a user-friendly response.\n",
    "\n",
    "    Args:\n",
    "    - threshold (int): The minimum total value for the threshold attribute that each region must achieve. Used in regionalization to ensure regions meet a certain criterion.\n",
    "    - attrs_name (list of str, optional): Names of the attributes used for measuring regional homogeneity. These attributes are considered in the regionalization process to ensure regions are similar internally.\n",
    "    - threshold_name (str): The name of the attribute used as a threshold criterion for forming regions. This attribute must meet or exceed the 'threshold' value in each region.\n",
    "    - input_file_path (str): The path to the input shapefile containing the geographical data for regionalization. This file is used to load geographic data into a GeoDataFrame.\n",
    "    - top_n (int): The number of top regions to consider in the regionalization process. This parameter can be used to limit the analysis to a certain number of top regions based on specific criteria.\n",
    "    - plot_results (bool): If True, plot the resulting regions. Defaults to False.\n",
    "\n",
    "    Returns:\n",
    "    - str: A response message indicating the outcome of the regionalization process. This message will either indicate success and the number of regions created or describe an error that occurred.\n",
    "    \"\"\"\n",
    "    \n",
    "    try:\n",
    "        # Attempt to call the function that may raise custom exceptions\n",
    "        n_regions = get_regionalization_maxp(threshold, attrs_name, threshold_name, input_file_path, top_n, plot_results)\n",
    "        response = f\"The regionalization process was successful, resulting in {n_regions} regions. The original geopandas dataframe is updated and saved in {rename_shapefile(input_file_path)}\"\n",
    "    except EmptyAttributeNameError as e:\n",
    "        # Handle case where attribute name is empty\n",
    "        response = f\"Error: {e}. Please provide a valid list of attribute names.\"\n",
    "    except EmptyThresholdNameError as e:\n",
    "        # Handle case where threshold name is empty\n",
    "        response = f\"Error: {e}. Please provide a valid threshold name.\"\n",
    "    except NonNumericAttributeError as e:\n",
    "        # Handle case where some attributes are not numeric\n",
    "        response = f\"Error: {e}. Ensure all attributes are numeric.\"\n",
    "    except InvalidThresholdNameError as e:\n",
    "        # Handle case where the threshold name is not valid\n",
    "        response = f\"Error: {e}. The threshold name must be one of the attribute names.\"\n",
    "    except ShapefileLoadingError as e:\n",
    "        # Handle errors specifically related to loading the shapefile\n",
    "        response = f\"Error loading shapefile: {e}. Please check the file path and ensure it's a valid shapefile.\"\n",
    "    except Exception as e:\n",
    "        # Handle any other unexpected exceptions\n",
    "        response = f\"An unexpected error occurred: {e}.\"\n",
    "\n",
    "    # Output the response\n",
    "    return response\n"
   ]
  },
  {
   "cell_type": "markdown",
   "id": "2ee8d96e-16f6-4965-b440-f482a8d9daee",
   "metadata": {
    "tags": []
   },
   "source": [
    "## Sanity Check Session: Testing Wrapper Functions defined in RegionDefiner\n",
    "\n",
    "To ensure the highest efficiency and reliability of the RegionDefiner, it is essential to conduct thorough testing of the wrapper functions that interface with the Spopt algorithms. This sanity check session is specifically aimed at evaluating these functions to confirm they are functioning as intended, effectively managing the execution of algorithms, handling errors, and providing clear feedback."
   ]
  },
  {
   "cell_type": "code",
   "execution_count": 50,
   "id": "3f715727-1dbb-45d8-b9e4-e2e88f133da6",
   "metadata": {
    "tags": []
   },
   "outputs": [
    {
     "name": "stdout",
     "output_type": "stream",
     "text": [
      "data/farms_us.shp is not a file in any installed dataset.\n",
      "Shapefile not found in libpysal examples. Attempting to read from a local path.\n"
     ]
    },
    {
     "data": {
      "text/plain": [
       "\"The regionalization process was successful. The regions have been calculated and saved in 'region' column in 'data/farms_us_output.shp'. There are 3 unique regions now.\""
      ]
     },
     "execution_count": 50,
     "metadata": {},
     "output_type": "execute_result"
    }
   ],
   "source": [
    "get_p_regions_response(\n",
    "    n_clusters=3, \n",
    "    attrs_name=['density'],\n",
    "    input_file_path='data/farms_us.shp',\n",
    "    algorithm='azp'\n",
    ")"
   ]
  },
  {
   "cell_type": "code",
   "execution_count": 51,
   "id": "00170eee-bdde-4653-bc25-b5959941f784",
   "metadata": {
    "tags": []
   },
   "outputs": [
    {
     "data": {
      "text/plain": [
       "'The regionalization process was successful, resulting in 6 regions. The original geopandas dataframe is updated and saved in mexicojoin_output.shp'"
      ]
     },
     "execution_count": 51,
     "metadata": {},
     "output_type": "execute_result"
    }
   ],
   "source": [
    "get_maxp_response(\n",
    "    threshold=5, \n",
    "    attrs_name=['PCGDP1940','PCGDP1950', 'PCGDP1960', 'PCGDP1970', 'PCGDP1980', 'PCGDP1990'], \n",
    "    threshold_name='count', \n",
    "    input_file_path='mexicojoin.shp',\n",
    "    plot_results=False)"
   ]
  },
  {
   "cell_type": "code",
   "execution_count": 52,
   "id": "4756e338-0ee5-422e-b61f-0e43f95341c0",
   "metadata": {
    "tags": []
   },
   "outputs": [
    {
     "name": "stdout",
     "output_type": "stream",
     "text": [
      "data/farms_us.shp is not a file in any installed dataset.\n",
      "Shapefile not found in libpysal examples. Attempting to read from a local path.\n"
     ]
    },
    {
     "data": {
      "text/plain": [
       "12"
      ]
     },
     "execution_count": 52,
     "metadata": {},
     "output_type": "execute_result"
    },
    {
     "data": {
      "image/png": "[encoded data removed]",
      "text/plain": [
       "<Figure size 800x500 with 1 Axes>"
      ]
     },
     "metadata": {},
     "output_type": "display_data"
    }
   ],
   "source": [
    "get_regionalization_maxp(\n",
    "    threshold=5, \n",
    "    attrs_name=['density'], \n",
    "    threshold_name='count', \n",
    "    input_file_path='data/farms_us.shp', \n",
    "    plot_results=True)"
   ]
  },
  {
   "cell_type": "markdown",
   "id": "f8e88a62-efe4-4d47-b2d3-ed0f04c307aa",
   "metadata": {},
   "source": [
    "## Defining the RegionDefiner: A Conversational Agent Built Upon OpenAI Assistant\n",
    "\n",
    "The RegionDefiner is a conversational agent created to facilitate regional analysis and planning. It harnesses the power of the OpenAI Assistant, a state-of-the-art AI platform, to offer an intelligent, interactive experience in the domain of regionalization. The RegionDefiner is specifically designed to streamline the processing and analysis of spatial data, making sophisticated regional planning accessible to a wide range of users.\n",
    "\n",
    "**Before proceeding the below scripts, please upload our given regionalization documents into the `documents` folder under the current working directory to achieve document retrieval.** The documents we provided include \"max_p_region_algorithm.docx,\" \"p_regions_problem.docx,\" \"max_p.docx,\" \"skater_algorithm.docx,\" \"azp_algorithm.docx,\" and \"spenc_algorithm.docx\". Uploading these documents into the `documents` folder allows the RegionDefiner to effectively utilize the File Search feature of the OpenAI Assistant when addressing user inquiries."
   ]
  },
  {
   "cell_type": "code",
   "execution_count": 53,
   "id": "d15637f4-da3c-40b7-803c-e6fdb7a824aa",
   "metadata": {
    "tags": []
   },
   "outputs": [],
   "source": [
    "class AssistantManager:\n",
    "    def __init__(self, model=MODEL, verbose=False):\n",
    "        self.client = OpenAI(api_key=OPENAI_API_KEY)\n",
    "        self.model = model\n",
    "        self.assistant = None\n",
    "        self.thread = None\n",
    "        self.run = None\n",
    "        self.verbose = verbose                \n",
    "\n",
    "    def create_assistant(self, name, instructions, tools):            \n",
    "        self.assistant = self.client.beta.assistants.create(\n",
    "            name=name,\n",
    "            instructions=instructions,\n",
    "            tools=tools,\n",
    "            model=self.model,\n",
    "            temperature=0\n",
    "        )\n",
    "    \n",
    "    def update_assistant_by_adding_file_search_documents(self, file_paths):\n",
    "        # Create a vector store for saving documents\n",
    "        vector_store = self.client.beta.vector_stores.create(name=\"Regionalization Documents\")\n",
    "\n",
    "        # Ready the files for upload to OpenAI\n",
    "        file_streams = [open(path, \"rb\") for path in file_paths]\n",
    "\n",
    "        # Use the upload and poll SDK helper to upload the files, add them to the vector store,\n",
    "        # and poll the status of the file batch for completion.\n",
    "        file_batch = self.client.beta.vector_stores.file_batches.upload_and_poll(\n",
    "          vector_store_id=vector_store.id, files=file_streams\n",
    "        )\n",
    "\n",
    "        self.assistant = self.client.beta.assistants.update(\n",
    "          assistant_id=self.assistant.id,\n",
    "          tool_resources={\"file_search\": {\"vector_store_ids\": [vector_store.id]}},\n",
    "        )\n",
    "\n",
    "    def update_assistant_by_adding_shape_file_for_code_interpreter(self, shp_file_paths):\n",
    "        \n",
    "        file_ids = []\n",
    "        for shp_file_path in shp_file_paths:\n",
    "            file = self.client.files.create(\n",
    "                file=open(shp_file_path, \"rb\"),\n",
    "                purpose=\"assistants\"\n",
    "            )\n",
    "            file_ids.append(file.id)\n",
    "\n",
    "        self.assistant = self.client.beta.assistants.update(\n",
    "            assistant_id=self.assistant.id,\n",
    "            tool_resources={\"code_interpreter\": {\"file_ids\": file_ids}},\n",
    "        )\n",
    "        \n",
    "    def create_thread(self):\n",
    "        self.thread = self.client.beta.threads.create()\n",
    "\n",
    "    def add_message_to_thread(self, role, content):\n",
    "        self.client.beta.threads.messages.create(\n",
    "            thread_id=self.thread.id,\n",
    "            role=role,\n",
    "            content=content\n",
    "        )\n",
    "\n",
    "    def run_assistant(self):\n",
    "        self.run = self.client.beta.threads.runs.create(\n",
    "            thread_id=self.thread.id,\n",
    "            assistant_id=self.assistant.id\n",
    "        )\n",
    "\n",
    "    def wait_for_completion(self):\n",
    "        previous_timestamp = datetime.datetime.now()  # Initial timestamp\n",
    "        while True:\n",
    "            time.sleep(1)\n",
    "            run_status = self.client.beta.threads.runs.retrieve(\n",
    "                thread_id=self.thread.id,\n",
    "                run_id=self.run.id\n",
    "            )\n",
    "            if self.verbose:\n",
    "                print(run_status.model_dump_json(indent=4))\n",
    "\n",
    "            if run_status.status == 'completed':\n",
    "                self.process_messages()\n",
    "                elapsed_time = (datetime.datetime.now() - previous_timestamp).total_seconds()\n",
    "                print(f\"Elapsed time: {elapsed_time} seconds\")\n",
    "                break\n",
    "            elif run_status.status == 'requires_action':\n",
    "                if self.verbose:\n",
    "                    print(\"Function Calling ...\")\n",
    "                    elapsed_time = (datetime.datetime.now() - previous_timestamp).total_seconds()\n",
    "                    print(f\"Elapsed time: {elapsed_time} seconds\")\n",
    "                self.call_required_functions(run_status.required_action.submit_tool_outputs.model_dump())\n",
    "            elif self.verbose:\n",
    "                print(\"Waiting for the Assistant to process...\")\n",
    "                elapsed_time = (datetime.datetime.now() - previous_timestamp).total_seconds()\n",
    "                print(f\"Elapsed time: {elapsed_time} seconds\")\n",
    "\n",
    "    def process_messages(self):\n",
    "        messages = self.client.beta.threads.messages.list(thread_id=self.thread.id)     \n",
    "        last_message = messages.data[0]\n",
    "        role = last_message.role\n",
    "        content = last_message.content[0].text.value\n",
    "        print(f\"{role.capitalize()}: {content}\")    \n",
    "\n",
    "    def call_required_functions(self, required_actions):\n",
    "        previous_timestamp = datetime.datetime.now()  # Initial timestamp\n",
    "        tool_outputs = []\n",
    "\n",
    "        for action in required_actions[\"tool_calls\"]:\n",
    "            func_name = action['function']['name']\n",
    "            arguments = json.loads(action['function']['arguments'])\n",
    "            \n",
    "            if func_name == \"get_maxp_response\":\n",
    "                output = get_maxp_response(\n",
    "                    threshold=arguments['threshold'], \n",
    "                    threshold_name=arguments['threshold_name'], \n",
    "                    attrs_name=arguments['attrs_name'], \n",
    "                    input_file_path=arguments['input_file_path'],\n",
    "                    plot_results=arguments['plot_results'])\n",
    "                tool_outputs.append({\n",
    "                    \"tool_call_id\": action['id'],\n",
    "                    \"output\": output\n",
    "                })\n",
    "            elif func_name == \"get_p_regions_response\":\n",
    "                output = get_p_regions_response(\n",
    "                    n_clusters=arguments['n_clusters'], \n",
    "                    attrs_name=arguments['attrs_name'], \n",
    "                    input_file_path=arguments['input_file_path'],\n",
    "                    plot_results=arguments['plot_results'])\n",
    "                tool_outputs.append({\n",
    "                    \"tool_call_id\": action['id'],\n",
    "                    \"output\": output\n",
    "                })\n",
    "            else:\n",
    "                raise ValueError(f\"Unknown function: {func_name}\")\n",
    "                \n",
    "        if self.verbose:\n",
    "            print(\"Submitting outputs back to the Assistant...\")\n",
    "            elapsed_time = (datetime.datetime.now() - previous_timestamp).total_seconds()\n",
    "            print(f\"Elapsed time: {elapsed_time} seconds\")\n",
    "        self.client.beta.threads.runs.submit_tool_outputs(\n",
    "            thread_id=self.thread.id,\n",
    "            run_id=self.run.id,\n",
    "            tool_outputs=tool_outputs\n",
    "        )\n"
   ]
  },
  {
   "cell_type": "code",
   "execution_count": 54,
   "id": "7d8412b2-42de-492f-b438-fb2e77203b9d",
   "metadata": {
    "tags": []
   },
   "outputs": [],
   "source": [
    "INSTRUCTION_PROMPT = \"\"\"\n",
    "\n",
    "As a Regionalization Expert Virtual Assistant, you specialize in regionalization tasks using specific documents, tools, and definitions. Construct your responses as follows:\n",
    "\n",
    "1. Identify Inquiry Type:\n",
    "   - Non-Regionalization Topics: Inform users that your focus is on regionalization and you do not handle unrelated topics such as facility location, resource allocation, route planning, site selection, and urban planning, etc.\n",
    "   - Regionalization Queries:\n",
    "     - General Questions: Use provided documents to share principles and methods related to regionalization.\n",
    "     - Specific Analysis: Execute analyses using designated tools:\n",
    "       - Max-p Problems: Conduct analyses on region count or allocation using 'get_maxp_response' tool tailored for Max-P region problems, considering specified thresholds.\n",
    "       - P-Region Problems: Designate regions using 'get_p_regions_response' tool equipped with algorithms like Skater, AZP, Regional K-means, Spenc, Ward, and Random Region.\n",
    "\n",
    "2. Conduct Specific Analyses:\n",
    "   - Outline Workflow: First, outline the workflow to address the query, ensuring understanding of the problem and identifying the most suitable analytical tool.\n",
    "   - Apply Tool: Precisely apply the appropriate tool, requesting more information if needed for clarity.\n",
    "\n",
    "3. Offer General Informational Support:\n",
    "   - Utilize Documents: For broader questions, use the provided documents to offer clear and concise insights into regionalization.\n",
    "\n",
    "Foundational Knowledge:\n",
    "- Regionalization Overview: Aggregating smaller areas into larger, contiguous, and homogeneous regions, optimizing for internal homogeneity and external heterogeneity under geospatial constraints. Application examples include spatial unit identification, zonal object design, etc.\n",
    "- Max-P Region Problem: Clusters areas into the maximum number of regions where a specific attribute exceeds a threshold.\n",
    "- P-Region Problem Algorithms:\n",
    "    - Skater: Groups areas into contiguous, homogeneous regions based on a connectivity graph.\n",
    "    - AZP: Forms regions maximizing internal homogeneity.\n",
    "    - Regional K-Means: Clusters areas based on attribute similarities with spatial contiguity constraints.\n",
    "    - Spenc: Ideal for non-convex clusters using graph cuts weighted by spatial proximity.\n",
    "    - Ward: Merges areas into clusters based on minimum variance with spatial connectivity.\n",
    "    - Random Region: Randomly groups areas into regions for comparative analysis.\n",
    "\n",
    "Response Output Guidelines:\n",
    "- Clarity: Use simple language and define technical terms clearly. Break complex concepts into understandable parts.\n",
    "- Relevance: Ensure responses directly address the user's questions or explain how the information provided relates to their inquiry.\n",
    "- Expert Guidance: For complex issues beyond the assistant's scope, recommend contacting SPOPT developers.\n",
    "- Conciseness: Ensure responses are concise, clear, and directly relevant to the user’s inquiry.\n",
    "\n",
    "\"\"\""
   ]
  },
  {
   "cell_type": "code",
   "execution_count": 55,
   "id": "e062edc0-3076-4dce-b3be-f18346590e48",
   "metadata": {
    "tags": []
   },
   "outputs": [],
   "source": [
    "def create_regionalization_assistant(verbose):\n",
    "    manager = AssistantManager(verbose=verbose)\n",
    "    \n",
    "    # Create assistant with regionalization tools\n",
    "    manager.create_assistant(\n",
    "        name=\"Regionalization Assistant\",\n",
    "        instructions=INSTRUCTION_PROMPT,\n",
    "        tools=[\n",
    "            {\n",
    "                \"type\": \"function\",\n",
    "                \"function\": {\n",
    "                    \"name\": \"get_maxp_response\",\n",
    "                    \"description\": \"Cluster a set of geographic areas into the maximum number of homogeneous and spatially contiguous regions such that the value of a spatially extensive regional attribute is above a predefined threshold\",\n",
    "                    \"parameters\": {\n",
    "                        \"type\": \"object\",\n",
    "                        \"properties\": {\n",
    "                            \"threshold\": {\n",
    "                                \"type\": \"integer\",\n",
    "                                \"description\": \"The predefined threshold value required for each region.\"\n",
    "                            },\n",
    "                            \"threshold_name\": {\n",
    "                                \"type\": \"string\",\n",
    "                                \"description\": \"Attribute name used for thresholding. The name of the spatially extensive attribute variable.\"\n",
    "                            },\n",
    "                            \"attrs_name\": {\n",
    "                                \"type\": \"array\",\n",
    "                                \"items\": {\n",
    "                                    \"type\": \"string\"\n",
    "                                },\n",
    "                                \"description\": \"The variables(attributes) in the data frame (attributes table) that will be used to measure regional homogeneity.\"\n",
    "                            },\n",
    "                            \"input_file_path\": {\n",
    "                                \"type\": \"string\",\n",
    "                                \"description\": \"Directory for loading shapefile. It should end with '.shp'. E.g., 'mexicojoin.shp', 'airbnb_Chicago 2015.shp', etc. \\\n",
    "                                This must be explicitly provided by the user. DO NOT Infer a file path, and it is not the file already uploaded. \\\n",
    "                                The user's shapefile is already in the current folder, so input_file_path should not start with '/' or sth like '/mnt/data/'.\"                           \n",
    "                            },\n",
    "                            \"plot_results\": {\n",
    "                                \"type\": \"boolean\",\n",
    "                                \"description\": \"Set to True to visualize the regionalization results unless user specifies.\"\n",
    "                            },\n",
    "                        },\n",
    "                        \"required\": [\"threshold\", \"threshold_name\", \"attrs_name\", \"input_file_path\", \"plot_results\"]\n",
    "                    }\n",
    "                }\n",
    "            },\n",
    "            {\n",
    "                \"type\": \"function\",\n",
    "                \"function\": {\n",
    "                    \"name\": \"get_p_regions_response\",\n",
    "                    \"description\": \"Group spatial units into contiguous regions. Determine spatially contiguous regions based on the predefined number of regions and attributes to measure regional homogeneity.\",\n",
    "                    \"parameters\": {\n",
    "                        \"type\": \"object\",\n",
    "                        \"properties\": {\n",
    "                            \"n_clusters\": {\n",
    "                                \"type\": \"integer\",\n",
    "                                \"description\": \"The desired number of contiguous regions into which spatial units are aggregated.\"\n",
    "                            },\n",
    "                            \"attrs_name\": {\n",
    "                                \"type\": \"array\",\n",
    "                                \"items\": {\n",
    "                                    \"type\": \"string\"\n",
    "                                },\n",
    "                                \"description\": \"The variables(attributes) in the data frame (attributes table) that will be used to measure regional homogeneity.\"\n",
    "                            },\n",
    "                            \"input_file_path\": {\n",
    "                                \"type\": \"string\",\n",
    "                                \"description\": \"Directory for loading shapefile. It should be ending by '.shp'. E.g., 'mexicojoin.shp', 'airbnb_Chicago 2015.shp', etc. \\\n",
    "                                                This is must be explicitly provided by user. DO NOT Infer a file path, and it is not the file already uploaded. \\\n",
    "                                                User's shapefile is already in current folder, so input_file_path should not start with '/' or sth like '/mnt/data/'.\"\n",
    "                            },\n",
    "                            \"algorithm\": {\n",
    "                                \"type\": \"string\",\n",
    "                                \"description\": \"The selected p-region algorithm, which should be one of the followings: 'skater', 'azp', 'kmeans', 'spenc', 'ward_spatial', 'random'.\"\n",
    "                            },\n",
    "                            \"plot_results\": {\n",
    "                                \"type\": \"boolean\",\n",
    "                                \"description\": \"Set to True to visualize the regionalization results unless user specifies.\"\n",
    "                            },\n",
    "                        },\n",
    "                        \"required\": [\"n_clusters\", \"attrs_name\", \"input_file_path\", \"algorithm\", \"plot_results\"]\n",
    "                    }\n",
    "                }\n",
    "            },\n",
    "            {\"type\": \"file_search\"},\n",
    "            {\"type\": \"code_interpreter\"}\n",
    "        ],\n",
    "    )\n",
    "    \n",
    "    # Update Assistant by providing file search documents\n",
    "    manager.update_assistant_by_adding_file_search_documents(\n",
    "        file_paths=[\"documents/max_p.docx\", \"documents/p_regions_problem.docx\", \"documents/max_p_region_algorithm.docx\", \"documents/skater_algorithm.docx\", \"documents/azp_algorithm.docx\", \"documents/spenc_algorithm.docx\"])\n",
    "    \n",
    "#    # Update Assistant by uploading shapefile\n",
    "#    manager.update_assistant_by_adding_shape_file_for_code_interpreter(\n",
    "#        shp_file_paths=[\"data/farms_us.shp\"]\n",
    "#    )\n",
    "    \n",
    "    # Initialize processing thread\n",
    "    manager.create_thread()\n",
    "    return manager\n"
   ]
  },
  {
   "cell_type": "code",
   "execution_count": 56,
   "id": "80bd43d6-37f7-4119-b064-5276df2f9932",
   "metadata": {
    "tags": []
   },
   "outputs": [],
   "source": [
    "def conversations(user_message, manager=None, verbose=False):\n",
    "    if manager is None:\n",
    "        manager = create_regionalization_assistant(verbose=verbose)\n",
    "        \n",
    "    # add user_message\n",
    "    manager.add_message_to_thread(\n",
    "        role=\"user\", \n",
    "        content=user_message)\n",
    "\n",
    "    # run assistant\n",
    "    manager.run_assistant()\n",
    "    # final\n",
    "    manager.wait_for_completion()"
   ]
  },
  {
   "cell_type": "markdown",
   "id": "5cff5477-bbda-4a09-b0cf-2db44cc735ce",
   "metadata": {},
   "source": [
    "## Case Study Sessions: Practical Applications of the RegionDefiner\n",
    "\n",
    "In this section of the notebook, we explore several case studies that illustrate the practical application and effectiveness of the RegionDefiner in addressing real-world regionalization challenges. These case studies demonstrate how the tool can be used to analyze spatial data, apply sophisticated algorithms, and generate actionable insights for regional planning and development.\n"
   ]
  },
  {
   "cell_type": "markdown",
   "id": "1db55ea2-e515-44a9-879e-54629ad28fd9",
   "metadata": {},
   "source": [
    "## Case Study 1: Evaluating RegionDefiner's Responsiveness to Educational Content\n",
    "\n",
    "### Overview\n",
    "This case study aims to test the RegionDefiner's ability to accurately handle and respond to a range of educational queries. The focus will be on assessing its proficiency in discerning and responding appropriately to content that is directly related to regionalization as well as content that is completely unrelated.\n",
    "\n",
    "### Objectives\n",
    "- **Content Relevance:** Test the RegionDefiner’s effectiveness in identifying and responding to content specifically related to regionalization.\n",
    "- **Handling Irrelevance:** Evaluate how the RegionDefiner manages questions that fall outside the scope of regionalization, focusing on its strategies for maintaining relevance or gracefully redirecting the user.\n",
    "- **Educational Quality:** Assess the quality of responses in terms of educational value, accuracy, and the ability to engage the user.\n"
   ]
  },
  {
   "cell_type": "code",
   "execution_count": 196,
   "id": "25d04e7d-1e58-493f-bf36-36fcd7bd87be",
   "metadata": {
    "tags": []
   },
   "outputs": [],
   "source": [
    "#### Case Study 1 #### \n",
    "## intent detection\n",
    "## general educational content\n",
    "#VERBOSE = True\n",
    "VERBOSE = False\n",
    "\n",
    "manager = create_regionalization_assistant(verbose=VERBOSE)"
   ]
  },
  {
   "cell_type": "code",
   "execution_count": 197,
   "id": "d486dec8-0ac2-4d58-b6f4-8d7955b61e11",
   "metadata": {
    "tags": []
   },
   "outputs": [
    {
     "name": "stdout",
     "output_type": "stream",
     "text": [
      "Assistant: Identify Inquiry Type: Non-Regionalization Topics\n",
      "\n",
      "Your question involves aspects of conservation planning, including habitat selection and connectivity, which are crucial for biodiversity preservation. However, these topics fall outside my specialization in regionalization, which focuses on aggregating smaller areas into larger, contiguous, and homogeneous regions based on specific criteria and constraints. My expertise is more aligned with tasks such as spatial unit identification and zonal object design, rather than specific conservation strategies like habitat placement and connectivity.\n",
      "\n",
      "For guidance on habitat selection and connectivity, I recommend consulting with experts in conservation biology, ecology, or environmental planning. These professionals can provide insights based on ecological principles, species-specific needs, and landscape connectivity analysis to ensure effective conservation outcomes.\n",
      "Elapsed time: 5.807402 seconds\n"
     ]
    }
   ],
   "source": [
    "conversations(\n",
    "    user_message=\"We want to set aside appropriate amount and types of habitats to protect species from becoming extinct. Where should we place them? How to connect these selected habitats?\", \n",
    "    manager=manager, \n",
    "    verbose=VERBOSE)"
   ]
  },
  {
   "cell_type": "code",
   "execution_count": 198,
   "id": "27e307ee-a964-40a1-aa3a-04fbb3d65335",
   "metadata": {
    "tags": []
   },
   "outputs": [
    {
     "name": "stdout",
     "output_type": "stream",
     "text": [
      "Assistant: Identify Inquiry Type: General Questions\n",
      "\n",
      "The regionalization problem involves the process of aggregating smaller geographic areas into larger, contiguous, and homogeneous regions. This process is guided by specific criteria and constraints with the aim of optimizing certain objectives. The primary goal is to ensure that the resulting regions are internally homogeneous in terms of certain attributes (e.g., demographic, economic, environmental characteristics) while being distinct from each other. This is achieved under the constraint of spatial contiguity, meaning that areas within a region must be geographically adjacent to each other.\n",
      "\n",
      "There are two main types of regionalization problems:\n",
      "\n",
      "1. **Max-P Region Problem**: This involves clustering areas into the maximum number of regions where a specific attribute or set of attributes exceeds a predefined threshold. The objective is to create as many regions as possible, each meeting or surpassing a certain criterion, while ensuring that the regions are spatially contiguous.\n",
      "\n",
      "2. **P-Region Problem**: This focuses on grouping spatial units into a predefined number of contiguous regions based on attributes to measure regional homogeneity. The aim is to form regions that are as homogeneous as possible regarding the selected attributes, again under the constraint of spatial contiguity.\n",
      "\n",
      "Regionalization is applied in various fields, including geography, urban planning, environmental management, and public health, to address issues like service delivery optimization, conservation planning, and regional development. The process involves complex decision-making and computational techniques to analyze spatial data and generate meaningful regional divisions.\n",
      "Elapsed time: 11.503998 seconds\n"
     ]
    }
   ],
   "source": [
    "conversations(\n",
    "    user_message=\"What is regionalization problem?\", \n",
    "    manager=manager,\n",
    "    verbose=VERBOSE\n",
    ")"
   ]
  },
  {
   "cell_type": "code",
   "execution_count": 199,
   "id": "34e2a464-64ec-4142-8ac3-a0d900824e72",
   "metadata": {
    "tags": []
   },
   "outputs": [
    {
     "name": "stdout",
     "output_type": "stream",
     "text": [
      "Assistant: Identify Inquiry Type: General Questions\n",
      "\n",
      "Regionalization and clustering are related but distinct concepts, each with its own objectives and methodologies. Here's a breakdown of the differences and similarities:\n",
      "\n",
      "### Clustering:\n",
      "- **Objective**: Clustering aims to group a set of objects (which can be anything from data points to geographic areas) in such a way that objects in the same group (called a cluster) are more similar to each other than to those in other groups. The primary focus is on the similarity of attributes, regardless of spatial proximity.\n",
      "- **Spatial Consideration**: Traditional clustering algorithms (like k-means, hierarchical clustering) do not necessarily consider spatial contiguity. That is, the resulting clusters may not be geographically contiguous.\n",
      "- **Applications**: Clustering is widely used in data analysis to identify patterns or groups within datasets, such as customer segmentation, image recognition, and anomaly detection.\n",
      "\n",
      "### Regionalization:\n",
      "- **Objective**: Regionalization specifically focuses on aggregating smaller geographic areas into larger, contiguous, and homogeneous regions based on certain criteria. The goal is to optimize for internal homogeneity within regions and external heterogeneity between regions, under the constraint of spatial contiguity.\n",
      "- **Spatial Consideration**: A key aspect of regionalization is the requirement for spatial contiguity. This means that areas within a region must be geographically adjacent, making regionalization particularly relevant for geographic and spatial data analysis.\n",
      "- **Applications**: Regionalization is applied in fields such as urban planning, environmental management, and public health, where the spatial arrangement of regions is crucial. Examples include designing service delivery regions, conservation area planning, and regional economic development.\n",
      "\n",
      "### Similarities:\n",
      "Both clustering and regionalization aim to group entities based on similarity or homogeneity. They are used to simplify complex data sets or landscapes into manageable units for analysis, decision-making, or policy development.\n",
      "\n",
      "### Key Difference:\n",
      "The main difference lies in the consideration of spatial contiguity. Regionalization requires the resulting regions to be spatially contiguous, which is not a prerequisite for most clustering algorithms. This makes regionalization particularly suited for spatial data analysis where geographic context and continuity are important.\n",
      "Elapsed time: 19.264429 seconds\n"
     ]
    }
   ],
   "source": [
    "conversations(\n",
    "    user_message=\"Is it the same as clustering?\", \n",
    "    manager=manager,\n",
    "    verbose=VERBOSE\n",
    ")"
   ]
  },
  {
   "cell_type": "markdown",
   "id": "f0f06032-c037-4dfc-af66-91d689b4485d",
   "metadata": {},
   "source": [
    "## Case Study 2: Practical Regionalization with Mexico Data\n",
    "\n",
    "This case study focuses on applying the RegionDefiner to solve a practical regionalization problem using spatial data from Mexico. The session aims to showcase how the RegionDefiner utilizes advanced algorithms and tools to perform effective spatial analysis and region delineation based on specific criteria."
   ]
  },
  {
   "cell_type": "code",
   "execution_count": 200,
   "id": "5c2ccecb-4f3a-4f1a-b34c-6c356062262a",
   "metadata": {
    "tags": []
   },
   "outputs": [],
   "source": [
    "### Case Study 2 ###\n",
    "## solve p-region problem\n",
    "#VERBOSE = True\n",
    "VERBOSE = False\n",
    "\n",
    "manager = create_regionalization_assistant(verbose=VERBOSE)"
   ]
  },
  {
   "cell_type": "code",
   "execution_count": 201,
   "id": "b85c5c79-57f5-4bf5-aedf-b6fb7445946b",
   "metadata": {
    "tags": []
   },
   "outputs": [
    {
     "name": "stdout",
     "output_type": "stream",
     "text": [
      "Assistant: Identify Inquiry Type: Regionalization Queries - Specific Analysis\n",
      "\n",
      "To assist you with delineating groups of states for analyzing regional development in Mexico, I will need to conduct a specific analysis. Before proceeding, could you please provide more details on the following:\n",
      "\n",
      "1. **Number of Regions**: How many groups or regions do you want to delineate?\n",
      "2. **Attributes for Homogeneity**: What attributes or variables do you want to use to measure the homogeneity within these regions? (e.g., GDP, population density, education level)\n",
      "3. **Shapefile**: Confirm if you have uploaded the shapefile for Mexico that includes the states and any relevant attributes.\n",
      "4. **Preferred Algorithm**: Do you have a preference for the regionalization algorithm? (e.g., Skater, AZP, Regional K-means, Spenc, Ward)\n",
      "\n",
      "This information will help outline the workflow and select the most suitable analytical tool for your query.\n",
      "Elapsed time: 8.099505 seconds\n"
     ]
    }
   ],
   "source": [
    "conversations(\n",
    "    user_message=\"I want to delineate several groups of states to analyze regional development in Mexico.\", \n",
    "    manager=manager, \n",
    "    verbose=VERBOSE\n",
    ")"
   ]
  },
  {
   "cell_type": "code",
   "execution_count": 202,
   "id": "0f46ab80-d4c2-456e-b507-baece435d274",
   "metadata": {
    "tags": []
   },
   "outputs": [
    {
     "name": "stdout",
     "output_type": "stream",
     "text": [
      "Assistant: Identify Inquiry Type: Regionalization Queries - Specific Analysis\n",
      "\n",
      "To proceed with creating five groups of states in Mexico for analyzing regional development and to provide a visualization of the results, I will need a bit more information:\n",
      "\n",
      "1. **Attributes for Homogeneity**: Could you specify the attributes or variables you wish to use to measure the homogeneity within these regions? This is crucial for ensuring the regions are meaningfully delineated based on your analysis goals.\n",
      "2. **Shapefile Confirmation**: Please confirm if the shapefile you've uploaded includes the states of Mexico and the necessary attributes for this analysis.\n",
      "3. **Preferred Algorithm**: If you have a preference for the regionalization algorithm (e.g., Skater, AZP, Regional K-means, Spenc, Ward), please let me know. If not, I can select the most suitable one based on the attributes you're interested in analyzing.\n",
      "\n",
      "Once I have this information, I can outline the workflow and apply the appropriate tool to create the five groups and generate the visualization.\n",
      "Elapsed time: 10.140091 seconds\n"
     ]
    }
   ],
   "source": [
    "conversations(\n",
    "    user_message=\"I want to create five groups and show me visualization result.\",\n",
    "    manager=manager,\n",
    "    verbose=VERBOSE\n",
    ")"
   ]
  },
  {
   "cell_type": "code",
   "execution_count": 203,
   "id": "6be7076f-8b73-453c-8ea8-0ac03f01afd6",
   "metadata": {
    "tags": []
   },
   "outputs": [
    {
     "name": "stdout",
     "output_type": "stream",
     "text": [
      "Assistant: Identify Inquiry Type: Regionalization Queries - General Questions\n",
      "\n",
      "Using the state name as an attribute for describing regional homogeneity in a regionalization analysis is not typical. Regional homogeneity usually refers to quantitative or qualitative attributes that can vary across different locations, such as economic indicators (e.g., GDP, unemployment rate), demographic characteristics (e.g., population density, education levels), or other measurable factors that can be used to assess similarity or dissimilarity among regions.\n",
      "\n",
      "The state name, being a nominal variable with unique values for each state, does not inherently provide a measure of similarity or dissimilarity that can be used for clustering or regionalization purposes. Instead, regionalization aims to group areas based on shared characteristics or attributes that reflect the regions' internal homogeneity and external heterogeneity.\n",
      "\n",
      "For your analysis of regional development in Mexico, it would be more appropriate to select attributes that reflect aspects of development, such as economic performance, social indicators, or infrastructure levels. If your goal is to analyze regional development, you might consider attributes like:\n",
      "\n",
      "- GDP per capita\n",
      "- Unemployment rate\n",
      "- Education levels\n",
      "- Health indicators\n",
      "- Infrastructure quality\n",
      "\n",
      "If these or similar attributes are included in your shapefile, they would be more suitable for creating meaningful groups of states for regional development analysis.\n",
      "\n",
      "Given the clarification needed for the attributes, could you specify any other attributes included in your shapefile 'mexicojoin.shp' that could be used for this analysis? If you're unsure, I can perform a search within the uploaded files to identify suitable attributes for your regionalization analysis.\n",
      "Elapsed time: 20.912873 seconds\n"
     ]
    }
   ],
   "source": [
    "conversations(\n",
    "    user_message=\"Can I set the state name as an attribute describing regional homogeneity? The shapefile has been uploaded in 'mexicojoin.shp' file path.\", \n",
    "    manager=manager,\n",
    "    verbose=VERBOSE\n",
    ")"
   ]
  },
  {
   "cell_type": "code",
   "execution_count": 204,
   "id": "18a8a2db-8f60-49f9-932a-1070f7baafaa",
   "metadata": {
    "tags": []
   },
   "outputs": [
    {
     "name": "stdout",
     "output_type": "stream",
     "text": [
      "Assistant: Identify Inquiry Type: Regionalization Queries - General Questions\n",
      "\n",
      "Using GDP data from 1980–1990 as attributes for regional homogeneity is a suitable choice for analyzing regional development in Mexico. This will allow you to group states based on economic performance over that decade, providing insights into regional development patterns.\n",
      "\n",
      "Here's a brief overview of how different regionalization algorithms would handle this analysis differently:\n",
      "\n",
      "1. **Skater**: The Skater algorithm groups areas into contiguous, homogeneous regions based on a connectivity graph. It prioritizes spatial contiguity and aims to minimize the variance within regions while considering the GDP data. Skater would be suitable if you're looking for regions that are not only similar in terms of GDP but also geographically adjacent.\n",
      "\n",
      "2. **AZP (Automatic Zoning Procedure)**: AZP also forms regions maximizing internal homogeneity based on the attributes (GDP data in your case) while ensuring regions are spatially contiguous. It starts with an initial partition and iteratively swaps units to improve an objective function, which could be more flexible in handling complex spatial patterns.\n",
      "\n",
      "3. **Regional K-means**: This algorithm clusters areas based on attribute similarities (e.g., GDP levels) with spatial contiguity constraints. Unlike traditional K-means, it ensures that the resulting clusters are geographically contiguous, which is crucial for regional analysis. It's efficient for identifying clusters based on economic performance while considering spatial adjacency.\n",
      "\n",
      "4. **Spenc**: The Spenc algorithm is ideal for forming non-convex clusters using graph cuts weighted by spatial proximity and attribute similarity. It's particularly useful when the spatial distribution of GDP data forms irregular shapes, allowing for more nuanced regional delineations.\n",
      "\n",
      "5. **Ward**: The Ward algorithm merges areas into clusters based on minimum variance, ensuring that each merger minimizes the increase in total within-cluster variance. With spatial constraints, it's effective for creating compact, homogenous regions based on GDP data, focusing on minimizing internal differences.\n",
      "\n",
      "6. **Random Region**: This algorithm randomly groups areas into regions, serving as a comparative baseline to evaluate the effectiveness of other algorithms. It's not recommended for purposeful regionalization but can be useful for testing or benchmarking.\n",
      "\n",
      "Given your interest in using GDP data from 1980–1990 for regionalization, algorithms like Skater, AZP, or Regional K-means might be particularly suitable, as they effectively balance the need for spatial contiguity with the goal of maximizing internal homogeneity based on economic attributes.\n",
      "\n",
      "Now that you've specified the use of GDP data from 1980–1990 as the attributes for regional homogeneity, and the shapefile 'mexicojoin.shp' is ready, we can proceed with the analysis. Do you have a preference for which algorithm to use based on this information, or would you like a recommendation based on the data's characteristics?\n",
      "Elapsed time: 20.463449 seconds\n"
     ]
    }
   ],
   "source": [
    "conversations(\n",
    "    user_message=\"Alright, I'd like to use GDP data from 1980–1990 as the attributes. In addition, Can you explain how the various algorithms would handle this differently?\", \n",
    "    manager=manager,\n",
    "    verbose=VERBOSE\n",
    ")"
   ]
  },
  {
   "cell_type": "code",
   "execution_count": 205,
   "id": "03b12cff-5812-4f3b-b777-8fb7a83e9625",
   "metadata": {
    "tags": []
   },
   "outputs": [
    {
     "name": "stdout",
     "output_type": "stream",
     "text": [
      "Assistant: The regionalization process using the Skater algorithm with the corrected attributes `PCGDP1980` and `PCGDP1990` was successful. We have successfully delineated Mexico into five unique regions based on the economic performance data from the 1980s and 1990s. These regions are designed to be internally homogeneous in terms of GDP per capita growth over the specified period, while also being spatially contiguous.\n",
      "\n",
      "The results have been saved in the 'mexicojoin_output.shp' file, with the regions indicated in the 'region' column. This file now contains the delineated groups of states in Mexico, organized to analyze regional development based on historical GDP data.\n",
      "\n",
      "If you need further analysis or have additional questions, feel free to ask!\n",
      "Elapsed time: 21.408459 seconds\n"
     ]
    },
    {
     "data": {
      "image/png": "[encoded data removed]",
      "text/plain": [
       "<Figure size 700x1400 with 1 Axes>"
      ]
     },
     "metadata": {},
     "output_type": "display_data"
    }
   ],
   "source": [
    "conversations(\n",
    "    user_message=\"Cool, let's try Skater for this problem.\",\n",
    "    manager=manager,\n",
    "    verbose=VERBOSE\n",
    ")"
   ]
  },
  {
   "cell_type": "markdown",
   "id": "d37b3cb9-159b-4459-ad20-a87ebd6862e0",
   "metadata": {
    "tags": []
   },
   "source": [
    "## Case Study 3: Solving a Max-P Problem with Local Data\n",
    "\n",
    "This case study demonstrates the RegionDefiner's ability to handle and solve a Max-P Problem using spatial data directly stored in a local device. The task will illustrate how the tool can effectively use local data sources to perform complex regional analysis and delineation, enhancing local planning and decision-making.\n",
    "\n",
    "**Before proceeding, please ensure that \"farm_us.shp\" and all necessary related shapefiles are uploaded to the `data` folder within the current working directory.**\n"
   ]
  },
  {
   "cell_type": "code",
   "execution_count": 15,
   "id": "8dc9dfc5-28b7-40fe-9ff8-e8370d2dbaec",
   "metadata": {},
   "outputs": [],
   "source": [
    "### Case Study 3 ###\n",
    "## solve p-region problem for US Farm problem\n",
    "#VERBOSE = True\n",
    "VERBOSE = False\n",
    "\n",
    "manager = create_regionalization_assistant(verbose=VERBOSE)"
   ]
  },
  {
   "cell_type": "code",
   "execution_count": 16,
   "id": "f4474d07-dd50-4251-81f9-ce9f4ec501b9",
   "metadata": {
    "tags": []
   },
   "outputs": [
    {
     "name": "stdout",
     "output_type": "stream",
     "text": [
      "Assistant: Identify Inquiry Type: Specific Analysis\n",
      "\n",
      "To assist with your goal of maximizing the number of clusters for regions to analyze regional development patterns in U.S. agriculture, we will use the Max-P region problem approach. This method is designed to cluster geographic areas into the maximum number of homogeneous and spatially contiguous regions, ensuring that the value of a spatially extensive regional attribute is above a predefined threshold. This approach is particularly useful for detailed analysis in fields such as agriculture, where understanding localized patterns can inform better decision-making and policy development.\n",
      "\n",
      "### Workflow Outline:\n",
      "1. **Define the Threshold**: Identify the specific threshold value that each region must meet. This could be related to agricultural output, land use intensity, or any other relevant metric.\n",
      "2. **Select Attributes for Homogeneity**: Choose the variables that will be used to measure regional homogeneity. These could include factors like crop yield, soil type, climate conditions, etc.\n",
      "3. **Prepare the Data**: Ensure that the data, including the shapefile for the U.S. regions and the attributes of interest, is correctly formatted and accessible.\n",
      "4. **Apply the Max-P Region Problem Tool**: Use the `get_maxp_response` tool with the defined parameters to perform the analysis.\n",
      "5. **Review Results**: Examine the generated clusters and the visualization to understand the regional development patterns.\n",
      "\n",
      "Before proceeding, could you please provide the following details:\n",
      "- The **threshold value** and the **name of the attribute** used for thresholding.\n",
      "- The **names of the attributes** you wish to use for measuring regional homogeneity.\n",
      "- The **path to the shapefile** containing the geographic data for U.S. agriculture regions.\n",
      "\n",
      "This information will enable us to apply the Max-P region problem tool accurately to your data.\n",
      "Elapsed time: 14.782436 seconds\n"
     ]
    }
   ],
   "source": [
    "conversations(\n",
    "    user_message=\"I aim to maximize the number of clusters for regions to perform a detailed analysis of regional development patterns in U.S. agriculture.\", \n",
    "    manager=manager, \n",
    "    verbose=VERBOSE\n",
    ")"
   ]
  },
  {
   "cell_type": "code",
   "execution_count": 17,
   "id": "198e09a7-7196-4aca-baa7-41b939829f77",
   "metadata": {
    "tags": []
   },
   "outputs": [
    {
     "name": "stdout",
     "output_type": "stream",
     "text": [
      "data/farms_us.shp is not a file in any installed dataset.\n",
      "Shapefile not found in libpysal examples. Attempting to read from a local path.\n",
      "Assistant: The analysis to maximize the number of clusters for regions, focusing on the 'density' attribute with a threshold value of 0.1, has been successfully completed. The process resulted in **19 regions** being identified within the U.S. agriculture dataset. This regionalization will allow for a detailed analysis of regional development patterns, providing insights into how density affects agricultural practices and outcomes across different areas.\n",
      "\n",
      "The updated geographic data, including the newly formed regions, has been saved in the shapefile named `data/farms_us_output.shp`. This file can be used for further analysis or visualization to understand the specific characteristics and development patterns of each region.\n",
      "\n",
      "If you need further analysis or have additional questions, feel free to ask!\n",
      "Elapsed time: 74.741236 seconds\n"
     ]
    },
    {
     "data": {
      "image/png": "[encoded data removed]",
      "text/plain": [
       "<Figure size 800x500 with 1 Axes>"
      ]
     },
     "metadata": {},
     "output_type": "display_data"
    }
   ],
   "source": [
    "conversations(\n",
    "    user_message=\"I have uploaded shapefile naming 'data/farms_us.shp'. Let's focus on density attribute, and please set threshold value to 0.1 since the 'density' value range is below 1.\",\n",
    "    manager=manager,\n",
    "    verbose=VERBOSE\n",
    ")"
   ]
  },
  {
   "cell_type": "markdown",
   "id": "826579e1-922b-4982-b5d6-db1488129357",
   "metadata": {},
   "source": [
    "## Case Study 4: Query Domain Identification with RegionDefiner\n",
    "\n",
    "This case study tests the RegionDefiner's capability to discern whether user-submitted queries pertain to the domain of regionalization. By providing a set of diverse queries, we will evaluate the tool's understanding and classification accuracy, highlighting its ability to correctly recognize and respond to regionalization-related topics."
   ]
  },
  {
   "cell_type": "code",
   "execution_count": 18,
   "id": "d5b26961-3f9c-4c30-9d47-9fea64bdce22",
   "metadata": {
    "tags": []
   },
   "outputs": [],
   "source": [
    "### Case Study 4 ###\n",
    "### Regionalization Problem Recognition\n",
    "VERBOSE = False\n",
    "\n",
    "manager = create_regionalization_assistant(verbose=VERBOSE)"
   ]
  },
  {
   "cell_type": "code",
   "execution_count": 19,
   "id": "11b6469a-45ab-46e2-b682-268ef7a5dff7",
   "metadata": {
    "tags": []
   },
   "outputs": [
    {
     "name": "stdout",
     "output_type": "stream",
     "text": [
      "Assistant: Sure, please go ahead and ask your questions.\n",
      "Elapsed time: 3.629941 seconds\n"
     ]
    }
   ],
   "source": [
    "conversations(\n",
    "    user_message=\"I will ask you 10 questions, please tell me whether each question is a Regionalization-related issue. Give me a short answer first (yes/no), then your logic reasoning\", \n",
    "    manager=manager, \n",
    "    verbose=VERBOSE\n",
    ")"
   ]
  },
  {
   "cell_type": "code",
   "execution_count": 20,
   "id": "d79ddadb-def9-4e49-9467-cf6cc4c8dd7b",
   "metadata": {},
   "outputs": [
    {
     "name": "stdout",
     "output_type": "stream",
     "text": [
      "Assistant: Yes.\n",
      "\n",
      "This question pertains to regionalization because it involves aggregating smaller areas (in this case, parts of the contiguous United States) into larger, contiguous, and homogeneous regions based on specific attributes (temperature and precipitation variations). The goal is to optimize for internal homogeneity within each climate zone regarding these attributes, which aligns with the principles of regionalization.\n",
      "Elapsed time: 5.09034 seconds\n"
     ]
    }
   ],
   "source": [
    "conversations(\n",
    "    user_message=\"1.How to divide the contiguous United States into four major climate zones, considering variations in temperature and precipitation?\", \n",
    "    manager=manager,\n",
    "    verbose=VERBOSE\n",
    ")"
   ]
  },
  {
   "cell_type": "code",
   "execution_count": 21,
   "id": "e389e595-b2c7-4c86-b406-2ba1b69b604e",
   "metadata": {},
   "outputs": [
    {
     "name": "stdout",
     "output_type": "stream",
     "text": [
      "Assistant: Yes.\n",
      "\n",
      "This question is related to regionalization as it involves identifying or aggregating spatial units into larger, contiguous regions that are homogeneous in terms of certain social science criteria. The process of delineating neighborhoods for urban social science research requires considering the internal homogeneity of social, economic, or physical characteristics, which is a core aspect of regionalization.\n",
      "Elapsed time: 4.719935 seconds\n"
     ]
    }
   ],
   "source": [
    "conversations(\n",
    "    user_message=\"2.How to identify the most appropriate spatial unit to delineate neighborhood in urban social science research?\", \n",
    "    manager=manager,\n",
    "    verbose=VERBOSE\n",
    ")"
   ]
  },
  {
   "cell_type": "code",
   "execution_count": 22,
   "id": "be1dc1ad-2909-43ff-897a-5e5b6d780355",
   "metadata": {},
   "outputs": [
    {
     "name": "stdout",
     "output_type": "stream",
     "text": [
      "Assistant: Yes.\n",
      "\n",
      "This inquiry is relevant to regionalization because it involves the process of defining ecological areas (regions) based on specific criteria or attributes, such as climate, soil types, vegetation, and other ecological factors. The comparison of algorithmically identified areas to expert-defined ecoregions also falls within the scope of regionalization, as it assesses the effectiveness of regionalization algorithms in capturing the homogeneity and contiguity of ecological characteristics that experts consider.\n",
      "Elapsed time: 4.752194 seconds\n"
     ]
    }
   ],
   "source": [
    "conversations(\n",
    "    user_message=\"3.I want to define ecological areas in the contiguous United States and want to see how the areas identified by algorithms compared to ecoregions defined by experts.\", \n",
    "    manager=manager,\n",
    "    verbose=VERBOSE\n",
    ")"
   ]
  },
  {
   "cell_type": "code",
   "execution_count": 23,
   "id": "76310b31-c87e-4692-a392-bef82da05908",
   "metadata": {},
   "outputs": [
    {
     "name": "stdout",
     "output_type": "stream",
     "text": [
      "Assistant: Yes.\n",
      "\n",
      "This question is related to regionalization because it involves designing zonal objects, or regions, based on specific goals or attributes such as housing characteristics or unemployment rates. The process of deciding on the most useful areal objects for studying these attributes requires aggregating spatial units into larger, contiguous, and homogeneous regions that are meaningful for the research objective, which is a fundamental aspect of regionalization.\n",
      "Elapsed time: 3.593573 seconds\n"
     ]
    }
   ],
   "source": [
    "conversations(\n",
    "    user_message=\"4.I would like to explicitly design zonal objects as meaningful entities related to a certain goal. For example, I’d like to decide which kind of areal objects would be most useful for studying housing characteristics or unemployment rates. \", \n",
    "    manager=manager,\n",
    "    verbose=VERBOSE\n",
    ")"
   ]
  },
  {
   "cell_type": "code",
   "execution_count": 24,
   "id": "69a9383a-9628-4419-b2a8-0a49ecf4d154",
   "metadata": {},
   "outputs": [
    {
     "name": "stdout",
     "output_type": "stream",
     "text": [
      "Assistant: Yes.\n",
      "\n",
      "This question directly relates to regionalization as it involves the aggregation of smaller spatial units (transportation analysis zones) into a smaller number of larger, contiguous, and homogeneous regions (model zones) for the purpose of urban economic modeling. The goal is to optimize the internal homogeneity of these model zones while considering spatial contiguity, which is a core principle of regionalization. The process described aims to simplify the spatial framework for the model while maintaining meaningful economic and transportation characteristics.\n",
      "Elapsed time: 4.951342 seconds\n"
     ]
    }
   ],
   "source": [
    "conversations(\n",
    "    user_message=\"5.I intend to aggregate 4000 transportation analysis zones from six counties in Southern California, USA, into around 100 model zones, the maximal number considered viable for an urban economic model. What should I do? \", \n",
    "    manager=manager,\n",
    "    verbose=VERBOSE\n",
    ")"
   ]
  },
  {
   "cell_type": "code",
   "execution_count": 25,
   "id": "b2cbb1a9-2895-48c5-92d5-7eadff40ced1",
   "metadata": {},
   "outputs": [
    {
     "name": "stdout",
     "output_type": "stream",
     "text": [
      "Assistant: No.\n",
      "\n",
      "This question is focused on determining the capacity for expansion of existing facilities, specifically the generation capacity of coal-fueled power plants operated by the Tennessee Valley Authority. It involves facility capacity analysis rather than the aggregation of areas into regions based on homogeneity or contiguity, which is the essence of regionalization. This inquiry is more related to facility location and capacity planning rather than regionalization.\n",
      "Elapsed time: 4.574638 seconds\n"
     ]
    }
   ],
   "source": [
    "conversations(\n",
    "    user_message=\"6.The Tennessee Valley Authority (TVA) operates several coals fueled power plants in the Tennessee Valley region. How to determine the largest amount of additional generation capacity that can be added to existing power plant sites? \", \n",
    "    manager=manager,\n",
    "    verbose=VERBOSE\n",
    ")"
   ]
  },
  {
   "cell_type": "code",
   "execution_count": 26,
   "id": "b1e0869c-1873-4940-a47d-c029cb6e39d0",
   "metadata": {},
   "outputs": [
    {
     "name": "stdout",
     "output_type": "stream",
     "text": [
      "Assistant: No.\n",
      "\n",
      "This question pertains to the strategic placement of a mobile radar vehicle for optimal data collection during a specific meteorological event, rather than the aggregation of areas into larger, contiguous, and homogeneous regions based on certain attributes. It is more related to site selection and operational planning in response to a short-term event, rather than the principles of regionalization.\n",
      "Elapsed time: 3.529085 seconds\n"
     ]
    }
   ],
   "source": [
    "conversations(\n",
    "    user_message=\"7.Tomorrow, a tornado is predicted to move across Oklahoma City, from southwest to northeast. Where should I park the mobile radar vehicle for meteorological observation so that I may acquire high-quality data?\", \n",
    "    manager=manager,\n",
    "    verbose=VERBOSE\n",
    ")"
   ]
  },
  {
   "cell_type": "code",
   "execution_count": 27,
   "id": "ef5460b3-ebca-410e-98f4-2e38b94a4e12",
   "metadata": {},
   "outputs": [
    {
     "name": "stdout",
     "output_type": "stream",
     "text": [
      "Assistant: No.\n",
      "\n",
      "This question deals with optimizing a drone emergency delivery system, focusing on station selection for drone equipment and assignment of drones to specific patients. It involves logistics, resource allocation, and route planning to ensure efficient and timely delivery of medical supplies. This does not relate to regionalization, which is about aggregating spatial units into larger, contiguous, and homogeneous regions based on specific attributes.\n",
      "Elapsed time: 3.528163 seconds\n"
     ]
    }
   ],
   "source": [
    "conversations(\n",
    "    user_message=\"8. Drones are dispatched with valuable and time-sensitive medical supplies to respond to emergency cases. To optimize the drone emergency delivery system, which stations should be selected to equip the drones? Which drone should serve which patient?\", \n",
    "    manager=manager,\n",
    "    verbose=VERBOSE\n",
    ")"
   ]
  },
  {
   "cell_type": "code",
   "execution_count": 28,
   "id": "7003d8e9-5a28-4ea4-9de3-ddde2e2f0746",
   "metadata": {},
   "outputs": [
    {
     "name": "stdout",
     "output_type": "stream",
     "text": [
      "Assistant: No.\n",
      "\n",
      "This question is focused on identifying an optimal meet-up location and routing for individuals coming from different work locations, which pertains to location optimization and route planning. It does not involve the aggregation of areas into larger, contiguous, and homogeneous regions based on specific attributes, which is the core of regionalization. This inquiry is more related to logistics and spatial decision-making for individual movements rather than regionalization principles.\n",
      "Elapsed time: 4.68012 seconds\n"
     ]
    }
   ],
   "source": [
    "conversations(\n",
    "    user_message=\"9. We drive from different work locations and would like to find an intermediate meetup location to hand over important documents. Where is the ideal meet-up location? How to route people?\", \n",
    "    manager=manager,\n",
    "    verbose=VERBOSE\n",
    ")"
   ]
  },
  {
   "cell_type": "code",
   "execution_count": 29,
   "id": "c50ce06b-3fdf-43ec-a599-b053add94a9d",
   "metadata": {},
   "outputs": [
    {
     "name": "stdout",
     "output_type": "stream",
     "text": [
      "Assistant: No.\n",
      "\n",
      "This question involves identifying specific areas within a city suitable for creating new green spaces, based on climate and possibly other environmental or urban planning criteria. While it may involve considerations of spatial characteristics, it is more aligned with urban planning and site selection for specific land use rather than the aggregation of areas into larger, contiguous, and homogeneous regions, which is the essence of regionalization.\n",
      "Elapsed time: 5.901639 seconds\n"
     ]
    }
   ],
   "source": [
    "conversations(\n",
    "    user_message=\"10.City of Phoenix is the capital of the state of Arizona. It has a subtropical desert climate with particularly hot summers and mild winters. I want to identify suitable areas for the new green space.\", \n",
    "    manager=manager,\n",
    "    verbose=VERBOSE\n",
    ")"
   ]
  },
  {
   "cell_type": "code",
   "execution_count": null,
   "id": "00650713-b816-4345-9362-3e6bb490ebe8",
   "metadata": {},
   "outputs": [],
   "source": []
  }
 ],
 "metadata": {
  "kernelspec": {
   "display_name": "Python 3 (ipykernel)",
   "language": "python",
   "name": "python3"
  },
  "language_info": {
   "codemirror_mode": {
    "name": "ipython",
    "version": 3
   },
   "file_extension": ".py",
   "mimetype": "text/x-python",
   "name": "python",
   "nbconvert_exporter": "python",
   "pygments_lexer": "ipython3",
   "version": "3.9.12"
  }
 },
 "nbformat": 4,
 "nbformat_minor": 5
}
